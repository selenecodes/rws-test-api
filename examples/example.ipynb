{
 "cells": [
  {
   "cell_type": "markdown",
   "metadata": {},
   "source": [
    "# Example usage of GraphQL API in python.\n",
    "This notebook demonstrates the usage of a few of the GraphQL API endpoints.<br/>\n",
    "If you'd like to explore the GraphQL API and it's schema in detail go to the [GraphQL Explorer](http://localhost:4000)\n",
    "\n",
    "> **NOTE**: This notebook is intended to be ran **after** the `ingest.ipynb` notebook as the database is empty by default."
   ]
  },
  {
   "cell_type": "code",
   "execution_count": null,
   "metadata": {},
   "outputs": [],
   "source": [
    "!pip install gql[all]"
   ]
  },
  {
   "cell_type": "code",
   "execution_count": null,
   "metadata": {},
   "outputs": [],
   "source": [
    "from gql import gql, Client\n",
    "from gql.dsl import dsl_gql, DSLSchema, DSLQuery\n",
    "from gql.transport.requests import RequestsHTTPTransport"
   ]
  },
  {
   "cell_type": "code",
   "execution_count": null,
   "metadata": {},
   "outputs": [],
   "source": [
    "# Select your transport with a defined url endpoint\n",
    "transport = RequestsHTTPTransport(url=\"http://localhost:4000/\")\n",
    "\n",
    "# Create a GraphQL client using the defined transport\n",
    "client = Client(transport=transport, fetch_schema_from_transport=True)"
   ]
  },
  {
   "cell_type": "markdown",
   "metadata": {},
   "source": [
    "### Retrieving data from the GraphQL graph\n",
    "One can retrieve data from the GraphQL graph using `gql`"
   ]
  },
  {
   "cell_type": "code",
   "execution_count": null,
   "metadata": {},
   "outputs": [],
   "source": [
    "# Provide a GraphQL query\n",
    "query = gql(\"\"\"\n",
    "    query Query($take: Int) {\n",
    "      findManyZipcode(take: $take) {\n",
    "        postcode\n",
    "        latitude\n",
    "        longitude\n",
    "      }\n",
    "    }\n",
    "\"\"\")\n",
    "\n",
    "# Execute the query on the transport\n",
    "result = client.execute(query, variable_values={\n",
    "  \"take\": 3\n",
    "})\n",
    "print(result)"
   ]
  },
  {
   "cell_type": "markdown",
   "metadata": {},
   "source": [
    "### Using DSLSchema instead of string-based GQL\n",
    "Another way to retrieve data is by using the DSLSchema method. The method below retrieves the same data as the previous snippet but has a more developer-friendly API."
   ]
  },
  {
   "cell_type": "code",
   "execution_count": null,
   "metadata": {},
   "outputs": [],
   "source": [
    "def convertDSLToQuery(schemaSelection: DSLSchema) -> str:\n",
    "    \"\"\"Converts a DSL schema query to a GraphQL query string\"\"\"\n",
    "    return dsl_gql(DSLQuery(schemaSelection))"
   ]
  },
  {
   "cell_type": "code",
   "execution_count": null,
   "metadata": {},
   "outputs": [],
   "source": [
    "# Load the schema from the client\n",
    "ds = DSLSchema(client.schema)\n",
    "\n",
    "client.execute(convertDSLToQuery(\n",
    "    ds.Query.findManyZipcode(take=3).select(\n",
    "        ds.Zipcode.postcode,\n",
    "        ds.Zipcode.latitude,\n",
    "        ds.Zipcode.longitude,\n",
    "    )\n",
    "))"
   ]
  }
 ],
 "metadata": {
  "kernelspec": {
   "display_name": "Python 3.9.7 ('base')",
   "language": "python",
   "name": "python3"
  },
  "language_info": {
   "codemirror_mode": {
    "name": "ipython",
    "version": 3
   },
   "file_extension": ".py",
   "mimetype": "text/x-python",
   "name": "python",
   "nbconvert_exporter": "python",
   "pygments_lexer": "ipython3",
   "version": "3.9.7"
  },
  "orig_nbformat": 4,
  "vscode": {
   "interpreter": {
    "hash": "ee81a38bb74a1efefdfab7d1ceba425044f93c5a441879ee6ae433bd65c99f7f"
   }
  }
 },
 "nbformat": 4,
 "nbformat_minor": 2
}
