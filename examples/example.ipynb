{
 "cells": [
  {
   "cell_type": "code",
   "execution_count": 1,
   "metadata": {},
   "outputs": [
    {
     "name": "stdout",
     "output_type": "stream",
     "text": [
      "Collecting gql[all]\n",
      "  Downloading gql-3.4.0-py2.py3-none-any.whl (65 kB)\n",
      "Collecting backoff<3.0,>=1.11.1\n",
      "  Downloading backoff-2.1.2-py3-none-any.whl (14 kB)\n",
      "Collecting graphql-core<3.3,>=3.2\n",
      "  Downloading graphql_core-3.2.1-py3-none-any.whl (202 kB)\n",
      "Collecting yarl<2.0,>=1.6\n",
      "  Downloading yarl-1.8.1-cp39-cp39-win_amd64.whl (56 kB)\n",
      "Collecting aiohttp<3.9.0,>=3.7.1\n",
      "  Downloading aiohttp-3.8.1-cp39-cp39-win_amd64.whl (554 kB)\n",
      "Collecting requests-toolbelt<1,>=0.9.1\n",
      "  Downloading requests_toolbelt-0.9.1-py2.py3-none-any.whl (54 kB)\n",
      "Requirement already satisfied: requests<3,>=2.26 in c:\\users\\selene\\miniconda3\\lib\\site-packages (from gql[all]) (2.27.1)\n",
      "Collecting botocore<2,>=1.21\n",
      "  Downloading botocore-1.27.44-py3-none-any.whl (9.0 MB)\n",
      "Collecting websockets<11,>=10\n",
      "  Downloading websockets-10.3-cp39-cp39-win_amd64.whl (98 kB)\n",
      "Requirement already satisfied: urllib3>=1.26 in c:\\users\\selene\\miniconda3\\lib\\site-packages (from gql[all]) (1.26.7)\n",
      "Requirement already satisfied: attrs>=17.3.0 in c:\\users\\selene\\miniconda3\\lib\\site-packages (from aiohttp<3.9.0,>=3.7.1->gql[all]) (22.1.0)\n",
      "Collecting aiosignal>=1.1.2\n",
      "  Downloading aiosignal-1.2.0-py3-none-any.whl (8.2 kB)\n",
      "Collecting async-timeout<5.0,>=4.0.0a3\n",
      "  Downloading async_timeout-4.0.2-py3-none-any.whl (5.8 kB)\n",
      "Collecting multidict<7.0,>=4.5\n",
      "  Downloading multidict-6.0.2-cp39-cp39-win_amd64.whl (28 kB)\n",
      "Requirement already satisfied: charset-normalizer<3.0,>=2.0 in c:\\users\\selene\\miniconda3\\lib\\site-packages (from aiohttp<3.9.0,>=3.7.1->gql[all]) (2.0.4)\n",
      "Collecting frozenlist>=1.1.1\n",
      "  Downloading frozenlist-1.3.1-cp39-cp39-win_amd64.whl (34 kB)\n",
      "Collecting jmespath<2.0.0,>=0.7.1\n",
      "  Downloading jmespath-1.0.1-py3-none-any.whl (20 kB)\n",
      "Requirement already satisfied: python-dateutil<3.0.0,>=2.1 in c:\\users\\selene\\miniconda3\\lib\\site-packages (from botocore<2,>=1.21->gql[all]) (2.8.2)\n",
      "Requirement already satisfied: six>=1.5 in c:\\users\\selene\\miniconda3\\lib\\site-packages (from python-dateutil<3.0.0,>=2.1->botocore<2,>=1.21->gql[all]) (1.16.0)\n",
      "Requirement already satisfied: idna<4,>=2.5 in c:\\users\\selene\\miniconda3\\lib\\site-packages (from requests<3,>=2.26->gql[all]) (3.3)\n",
      "Requirement already satisfied: certifi>=2017.4.17 in c:\\users\\selene\\miniconda3\\lib\\site-packages (from requests<3,>=2.26->gql[all]) (2021.10.8)\n",
      "Installing collected packages: multidict, frozenlist, yarl, jmespath, graphql-core, backoff, async-timeout, aiosignal, websockets, requests-toolbelt, gql, botocore, aiohttp\n",
      "Successfully installed aiohttp-3.8.1 aiosignal-1.2.0 async-timeout-4.0.2 backoff-2.1.2 botocore-1.27.44 frozenlist-1.3.1 gql-3.4.0 graphql-core-3.2.1 jmespath-1.0.1 multidict-6.0.2 requests-toolbelt-0.9.1 websockets-10.3 yarl-1.8.1\n"
     ]
    }
   ],
   "source": [
    "!pip install gql[all]"
   ]
  },
  {
   "cell_type": "code",
   "execution_count": 23,
   "metadata": {},
   "outputs": [],
   "source": [
    "from gql import gql, Client\n",
    "from gql.dsl import dsl_gql, DSLSchema, DSLQuery\n",
    "from gql.transport.requests import RequestsHTTPTransport"
   ]
  },
  {
   "cell_type": "code",
   "execution_count": 16,
   "metadata": {},
   "outputs": [],
   "source": [
    "# Select your transport with a defined url endpoint\n",
    "transport = RequestsHTTPTransport(url=\"http://localhost:80/\")\n",
    "\n",
    "# Create a GraphQL client using the defined transport\n",
    "client = Client(transport=transport, fetch_schema_from_transport=True)"
   ]
  },
  {
   "cell_type": "markdown",
   "metadata": {},
   "source": [
    "### Retrieving data from the GraphQL graph\n",
    "One can retrieve data from the GraphQL graph using `gql`"
   ]
  },
  {
   "cell_type": "code",
   "execution_count": 32,
   "metadata": {},
   "outputs": [
    {
     "name": "stdout",
     "output_type": "stream",
     "text": [
      "{'findManyZipcode': [{'postcode': 6724, 'latitude': 39.4471, 'longitude': 79.0089}, {'postcode': 9465, 'latitude': -17.8169, 'longitude': -56.4559}, {'postcode': 4206, 'latitude': 23.7226, 'longitude': -114.303}]}\n"
     ]
    }
   ],
   "source": [
    "# Provide a GraphQL query\n",
    "query = gql(\"\"\"\n",
    "    query Query($take: Int) {\n",
    "      findManyZipcode(take: $take) {\n",
    "        postcode\n",
    "        latitude\n",
    "        longitude\n",
    "      }\n",
    "    }\n",
    "\"\"\")\n",
    "\n",
    "# Execute the query on the transport\n",
    "result = client.execute(query, variable_values={\n",
    "  \"take\": 3\n",
    "})\n",
    "print(result)"
   ]
  },
  {
   "cell_type": "markdown",
   "metadata": {},
   "source": [
    "### Using DSLSchema instead of string-based GQL\n",
    "Another way to retrieve data is by using the DSLSchema method. The method below retrieves the same data as the previous snippet but has a more developer-friendly API."
   ]
  },
  {
   "cell_type": "code",
   "execution_count": 33,
   "metadata": {},
   "outputs": [],
   "source": [
    "def convertDSLToQuery(schemaSelection: DSLSchema) -> str:\n",
    "    \"\"\"Converts a DSL schema query to a GraphQL query string\"\"\"\n",
    "    return dsl_gql(DSLQuery(schemaSelection))"
   ]
  },
  {
   "cell_type": "code",
   "execution_count": 34,
   "metadata": {},
   "outputs": [
    {
     "data": {
      "text/plain": [
       "{'findManyZipcode': [{'postcode': 6724,\n",
       "   'latitude': 39.4471,\n",
       "   'longitude': 79.0089},\n",
       "  {'postcode': 9465, 'latitude': -17.8169, 'longitude': -56.4559},\n",
       "  {'postcode': 4206, 'latitude': 23.7226, 'longitude': -114.303}]}"
      ]
     },
     "execution_count": 34,
     "metadata": {},
     "output_type": "execute_result"
    }
   ],
   "source": [
    "# Load the schema from the client\n",
    "ds = DSLSchema(client.schema)\n",
    "\n",
    "client.execute(convertDSLToQuery(\n",
    "    ds.Query.findManyZipcode(take=3).select(\n",
    "        ds.Zipcode.postcode,\n",
    "        ds.Zipcode.latitude,\n",
    "        ds.Zipcode.longitude,\n",
    "    )\n",
    "))"
   ]
  },
  {
   "cell_type": "code",
   "execution_count": null,
   "metadata": {},
   "outputs": [],
   "source": []
  }
 ],
 "metadata": {
  "kernelspec": {
   "display_name": "Python 3.9.7 ('base')",
   "language": "python",
   "name": "python3"
  },
  "language_info": {
   "codemirror_mode": {
    "name": "ipython",
    "version": 3
   },
   "file_extension": ".py",
   "mimetype": "text/x-python",
   "name": "python",
   "nbconvert_exporter": "python",
   "pygments_lexer": "ipython3",
   "version": "3.9.7"
  },
  "orig_nbformat": 4,
  "vscode": {
   "interpreter": {
    "hash": "ee81a38bb74a1efefdfab7d1ceba425044f93c5a441879ee6ae433bd65c99f7f"
   }
  }
 },
 "nbformat": 4,
 "nbformat_minor": 2
}
