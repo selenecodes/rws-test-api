{
 "cells": [
  {
   "cell_type": "markdown",
   "metadata": {},
   "source": [
    "# Example usage of GraphQL API in python.\n",
    "This notebook demonstrates the usage of a few of the GraphQL API endpoints.<br/>\n",
    "If you'd like to explore the GraphQL API and it's schema in detail go to the [GraphQL Explorer](http://localhost:4000)"
   ]
  },
  {
   "cell_type": "code",
   "execution_count": 1,
   "metadata": {},
   "outputs": [
    {
     "name": "stdout",
     "output_type": "stream",
     "text": [
      "Requirement already satisfied: gql[all] in c:\\users\\selene\\miniconda3\\lib\\site-packages (3.4.0)\n",
      "Requirement already satisfied: backoff<3.0,>=1.11.1 in c:\\users\\selene\\miniconda3\\lib\\site-packages (from gql[all]) (2.1.2)\n",
      "Requirement already satisfied: yarl<2.0,>=1.6 in c:\\users\\selene\\miniconda3\\lib\\site-packages (from gql[all]) (1.8.1)\n",
      "Requirement already satisfied: graphql-core<3.3,>=3.2 in c:\\users\\selene\\miniconda3\\lib\\site-packages (from gql[all]) (3.2.1)\n",
      "Requirement already satisfied: websockets<11,>=10 in c:\\users\\selene\\miniconda3\\lib\\site-packages (from gql[all]) (10.3)\n",
      "Requirement already satisfied: botocore<2,>=1.21 in c:\\users\\selene\\miniconda3\\lib\\site-packages (from gql[all]) (1.27.44)\n",
      "Requirement already satisfied: requests-toolbelt<1,>=0.9.1 in c:\\users\\selene\\miniconda3\\lib\\site-packages (from gql[all]) (0.9.1)\n",
      "Requirement already satisfied: aiohttp<3.9.0,>=3.7.1 in c:\\users\\selene\\miniconda3\\lib\\site-packages (from gql[all]) (3.8.1)\n",
      "Requirement already satisfied: urllib3>=1.26 in c:\\users\\selene\\miniconda3\\lib\\site-packages (from gql[all]) (1.26.7)\n",
      "Requirement already satisfied: requests<3,>=2.26 in c:\\users\\selene\\miniconda3\\lib\\site-packages (from gql[all]) (2.27.1)\n",
      "Requirement already satisfied: aiosignal>=1.1.2 in c:\\users\\selene\\miniconda3\\lib\\site-packages (from aiohttp<3.9.0,>=3.7.1->gql[all]) (1.2.0)\n",
      "Requirement already satisfied: async-timeout<5.0,>=4.0.0a3 in c:\\users\\selene\\miniconda3\\lib\\site-packages (from aiohttp<3.9.0,>=3.7.1->gql[all]) (4.0.2)\n",
      "Requirement already satisfied: multidict<7.0,>=4.5 in c:\\users\\selene\\miniconda3\\lib\\site-packages (from aiohttp<3.9.0,>=3.7.1->gql[all]) (6.0.2)\n",
      "Requirement already satisfied: attrs>=17.3.0 in c:\\users\\selene\\miniconda3\\lib\\site-packages (from aiohttp<3.9.0,>=3.7.1->gql[all]) (22.1.0)\n",
      "Requirement already satisfied: charset-normalizer<3.0,>=2.0 in c:\\users\\selene\\miniconda3\\lib\\site-packages (from aiohttp<3.9.0,>=3.7.1->gql[all]) (2.0.4)\n",
      "Requirement already satisfied: frozenlist>=1.1.1 in c:\\users\\selene\\miniconda3\\lib\\site-packages (from aiohttp<3.9.0,>=3.7.1->gql[all]) (1.3.1)\n",
      "Requirement already satisfied: jmespath<2.0.0,>=0.7.1 in c:\\users\\selene\\miniconda3\\lib\\site-packages (from botocore<2,>=1.21->gql[all]) (1.0.1)\n",
      "Requirement already satisfied: python-dateutil<3.0.0,>=2.1 in c:\\users\\selene\\miniconda3\\lib\\site-packages (from botocore<2,>=1.21->gql[all]) (2.8.2)\n",
      "Requirement already satisfied: six>=1.5 in c:\\users\\selene\\miniconda3\\lib\\site-packages (from python-dateutil<3.0.0,>=2.1->botocore<2,>=1.21->gql[all]) (1.16.0)\n",
      "Requirement already satisfied: idna<4,>=2.5 in c:\\users\\selene\\miniconda3\\lib\\site-packages (from requests<3,>=2.26->gql[all]) (3.3)\n",
      "Requirement already satisfied: certifi>=2017.4.17 in c:\\users\\selene\\miniconda3\\lib\\site-packages (from requests<3,>=2.26->gql[all]) (2021.10.8)\n"
     ]
    }
   ],
   "source": [
    "!pip install gql[all]"
   ]
  },
  {
   "cell_type": "code",
   "execution_count": 2,
   "metadata": {},
   "outputs": [],
   "source": [
    "from gql import gql, Client\n",
    "from gql.dsl import dsl_gql, DSLSchema, DSLQuery\n",
    "from gql.transport.requests import RequestsHTTPTransport"
   ]
  },
  {
   "cell_type": "code",
   "execution_count": 3,
   "metadata": {},
   "outputs": [],
   "source": [
    "# Select your transport with a defined url endpoint\n",
    "transport = RequestsHTTPTransport(url=\"http://localhost:4000/\")\n",
    "\n",
    "# Create a GraphQL client using the defined transport\n",
    "client = Client(transport=transport, fetch_schema_from_transport=True)"
   ]
  },
  {
   "cell_type": "markdown",
   "metadata": {},
   "source": [
    "### Retrieving data from the GraphQL graph\n",
    "One can retrieve data from the GraphQL graph using `gql`"
   ]
  },
  {
   "cell_type": "code",
   "execution_count": 4,
   "metadata": {},
   "outputs": [
    {
     "name": "stdout",
     "output_type": "stream",
     "text": [
      "{'findManyZipcode': [{'postcode': 6724, 'latitude': 39.4471, 'longitude': 79.0089}, {'postcode': 9465, 'latitude': -17.8169, 'longitude': -56.4559}, {'postcode': 4206, 'latitude': 23.7226, 'longitude': -114.303}]}\n"
     ]
    }
   ],
   "source": [
    "# Provide a GraphQL query\n",
    "query = gql(\"\"\"\n",
    "    query Query($take: Int) {\n",
    "      findManyZipcode(take: $take) {\n",
    "        postcode\n",
    "        latitude\n",
    "        longitude\n",
    "      }\n",
    "    }\n",
    "\"\"\")\n",
    "\n",
    "# Execute the query on the transport\n",
    "result = client.execute(query, variable_values={\n",
    "  \"take\": 3\n",
    "})\n",
    "print(result)"
   ]
  },
  {
   "cell_type": "markdown",
   "metadata": {},
   "source": [
    "### Using DSLSchema instead of string-based GQL\n",
    "Another way to retrieve data is by using the DSLSchema method. The method below retrieves the same data as the previous snippet but has a more developer-friendly API."
   ]
  },
  {
   "cell_type": "code",
   "execution_count": 5,
   "metadata": {},
   "outputs": [],
   "source": [
    "def convertDSLToQuery(schemaSelection: DSLSchema) -> str:\n",
    "    \"\"\"Converts a DSL schema query to a GraphQL query string\"\"\"\n",
    "    return dsl_gql(DSLQuery(schemaSelection))"
   ]
  },
  {
   "cell_type": "code",
   "execution_count": 6,
   "metadata": {},
   "outputs": [
    {
     "data": {
      "text/plain": [
       "{'findManyZipcode': [{'postcode': 6724,\n",
       "   'latitude': 39.4471,\n",
       "   'longitude': 79.0089},\n",
       "  {'postcode': 9465, 'latitude': -17.8169, 'longitude': -56.4559},\n",
       "  {'postcode': 4206, 'latitude': 23.7226, 'longitude': -114.303}]}"
      ]
     },
     "execution_count": 6,
     "metadata": {},
     "output_type": "execute_result"
    }
   ],
   "source": [
    "# Load the schema from the client\n",
    "ds = DSLSchema(client.schema)\n",
    "\n",
    "client.execute(convertDSLToQuery(\n",
    "    ds.Query.findManyZipcode(take=3).select(\n",
    "        ds.Zipcode.postcode,\n",
    "        ds.Zipcode.latitude,\n",
    "        ds.Zipcode.longitude,\n",
    "    )\n",
    "))"
   ]
  }
 ],
 "metadata": {
  "kernelspec": {
   "display_name": "Python 3.9.7 ('base')",
   "language": "python",
   "name": "python3"
  },
  "language_info": {
   "codemirror_mode": {
    "name": "ipython",
    "version": 3
   },
   "file_extension": ".py",
   "mimetype": "text/x-python",
   "name": "python",
   "nbconvert_exporter": "python",
   "pygments_lexer": "ipython3",
   "version": "3.9.7"
  },
  "orig_nbformat": 4,
  "vscode": {
   "interpreter": {
    "hash": "ee81a38bb74a1efefdfab7d1ceba425044f93c5a441879ee6ae433bd65c99f7f"
   }
  }
 },
 "nbformat": 4,
 "nbformat_minor": 2
}
