{
 "cells": [
  {
   "cell_type": "code",
   "execution_count": 1,
   "metadata": {},
   "outputs": [
    {
     "name": "stdout",
     "output_type": "stream",
     "text": [
      "Collecting gql[all]\n",
      "  Downloading gql-3.4.0-py2.py3-none-any.whl (65 kB)\n",
      "Collecting backoff<3.0,>=1.11.1\n",
      "  Downloading backoff-2.1.2-py3-none-any.whl (14 kB)\n",
      "Collecting graphql-core<3.3,>=3.2\n",
      "  Downloading graphql_core-3.2.1-py3-none-any.whl (202 kB)\n",
      "Collecting yarl<2.0,>=1.6\n",
      "  Downloading yarl-1.8.1-cp39-cp39-win_amd64.whl (56 kB)\n",
      "Collecting aiohttp<3.9.0,>=3.7.1\n",
      "  Downloading aiohttp-3.8.1-cp39-cp39-win_amd64.whl (554 kB)\n",
      "Collecting requests-toolbelt<1,>=0.9.1\n",
      "  Downloading requests_toolbelt-0.9.1-py2.py3-none-any.whl (54 kB)\n",
      "Requirement already satisfied: requests<3,>=2.26 in c:\\users\\selene\\miniconda3\\lib\\site-packages (from gql[all]) (2.27.1)\n",
      "Collecting botocore<2,>=1.21\n",
      "  Downloading botocore-1.27.44-py3-none-any.whl (9.0 MB)\n",
      "Collecting websockets<11,>=10\n",
      "  Downloading websockets-10.3-cp39-cp39-win_amd64.whl (98 kB)\n",
      "Requirement already satisfied: urllib3>=1.26 in c:\\users\\selene\\miniconda3\\lib\\site-packages (from gql[all]) (1.26.7)\n",
      "Requirement already satisfied: attrs>=17.3.0 in c:\\users\\selene\\miniconda3\\lib\\site-packages (from aiohttp<3.9.0,>=3.7.1->gql[all]) (22.1.0)\n",
      "Collecting aiosignal>=1.1.2\n",
      "  Downloading aiosignal-1.2.0-py3-none-any.whl (8.2 kB)\n",
      "Collecting async-timeout<5.0,>=4.0.0a3\n",
      "  Downloading async_timeout-4.0.2-py3-none-any.whl (5.8 kB)\n",
      "Collecting multidict<7.0,>=4.5\n",
      "  Downloading multidict-6.0.2-cp39-cp39-win_amd64.whl (28 kB)\n",
      "Requirement already satisfied: charset-normalizer<3.0,>=2.0 in c:\\users\\selene\\miniconda3\\lib\\site-packages (from aiohttp<3.9.0,>=3.7.1->gql[all]) (2.0.4)\n",
      "Collecting frozenlist>=1.1.1\n",
      "  Downloading frozenlist-1.3.1-cp39-cp39-win_amd64.whl (34 kB)\n",
      "Collecting jmespath<2.0.0,>=0.7.1\n",
      "  Downloading jmespath-1.0.1-py3-none-any.whl (20 kB)\n",
      "Requirement already satisfied: python-dateutil<3.0.0,>=2.1 in c:\\users\\selene\\miniconda3\\lib\\site-packages (from botocore<2,>=1.21->gql[all]) (2.8.2)\n",
      "Requirement already satisfied: six>=1.5 in c:\\users\\selene\\miniconda3\\lib\\site-packages (from python-dateutil<3.0.0,>=2.1->botocore<2,>=1.21->gql[all]) (1.16.0)\n",
      "Requirement already satisfied: idna<4,>=2.5 in c:\\users\\selene\\miniconda3\\lib\\site-packages (from requests<3,>=2.26->gql[all]) (3.3)\n",
      "Requirement already satisfied: certifi>=2017.4.17 in c:\\users\\selene\\miniconda3\\lib\\site-packages (from requests<3,>=2.26->gql[all]) (2021.10.8)\n",
      "Installing collected packages: multidict, frozenlist, yarl, jmespath, graphql-core, backoff, async-timeout, aiosignal, websockets, requests-toolbelt, gql, botocore, aiohttp\n",
      "Successfully installed aiohttp-3.8.1 aiosignal-1.2.0 async-timeout-4.0.2 backoff-2.1.2 botocore-1.27.44 frozenlist-1.3.1 gql-3.4.0 graphql-core-3.2.1 jmespath-1.0.1 multidict-6.0.2 requests-toolbelt-0.9.1 websockets-10.3 yarl-1.8.1\n"
     ]
    }
   ],
   "source": [
    "!pip install gql[all]"
   ]
  },
  {
   "cell_type": "code",
   "execution_count": 11,
   "metadata": {},
   "outputs": [],
   "source": [
    "from gql import gql, Client\n",
    "from gql.dsl import dsl_gql, DSLSchema, DSLQuery\n",
    "from gql.transport.requests import RequestsHTTPTransport\n",
    "\n",
    "import csv"
   ]
  },
  {
   "cell_type": "code",
   "execution_count": 12,
   "metadata": {},
   "outputs": [],
   "source": [
    "# Select your transport with a defined url endpoint\n",
    "transport = RequestsHTTPTransport(url=\"http://localhost:4000/\")\n",
    "\n",
    "# Create a GraphQL client using the defined transport\n",
    "client = Client(transport=transport, fetch_schema_from_transport=True)"
   ]
  },
  {
   "cell_type": "markdown",
   "metadata": {},
   "source": [
    "### Batch ingesting data\n"
   ]
  },
  {
   "cell_type": "code",
   "execution_count": 13,
   "metadata": {},
   "outputs": [],
   "source": [
    "data_path = \"./data/4pp.csv\""
   ]
  },
  {
   "cell_type": "code",
   "execution_count": 14,
   "metadata": {},
   "outputs": [],
   "source": [
    "data = []\n",
    "with open(data_path) as csvfile:\n",
    "    reader = csv.DictReader(csvfile)\n",
    "    for row in reader:\n",
    "        data.append({\n",
    "            \"woonplaats\": str(row[\"woonplaats\"]),\n",
    "            \"soort\": str(row[\"soort\"]),\n",
    "            \"provincie\": str(row[\"provincie\"]),\n",
    "            \"postcode\": int(row[\"postcode\"]),\n",
    "            \"netnummer\": str(row[\"netnummer\"]),\n",
    "            \"longitude\": float(row[\"longitude\"]),\n",
    "            \"latitude\": float(row[\"latitude\"]),\n",
    "            \"gemeente\": str(row[\"gemeente\"]),\n",
    "            \"alternatieve_schrijfwijzen\": str(row[\"alternatieve_schrijfwijzen\"]),\n",
    "        })"
   ]
  },
  {
   "cell_type": "code",
   "execution_count": 24,
   "metadata": {},
   "outputs": [],
   "source": [
    "# Provide the createMany graphql query.\n",
    "# Queries can be found using the GraphQL explorer at http://localhost:4000/\n",
    "query = gql(\"\"\"\n",
    "  mutation Mutation($data: [ZipcodeCreateInput!]) {\n",
    "    createManyZipcode(data: $data) {\n",
    "      count\n",
    "    }\n",
    "  }\n",
    "\"\"\")\n",
    "\n",
    "# Execute the query using the graphql client.\n",
    "# The $data variable in the gql query gets populated with the data from the `variable_values` parameter below.\n",
    "result = client.execute(query, variable_values={\n",
    "  \"data\": data\n",
    "})\n",
    "\n",
    "count = result['createManyZipcode']['count']"
   ]
  },
  {
   "cell_type": "code",
   "execution_count": 25,
   "metadata": {},
   "outputs": [
    {
     "name": "stdout",
     "output_type": "stream",
     "text": [
      "\n",
      "Rows in CSV file: 4699\n",
      "Rows added to database: 4699\n",
      "\n"
     ]
    }
   ],
   "source": [
    "print(f\"\"\"\n",
    "Rows in CSV file: {len(data)}\n",
    "Rows added to database: {count}\n",
    "\"\"\")"
   ]
  }
 ],
 "metadata": {
  "kernelspec": {
   "display_name": "Python 3.9.7 ('base')",
   "language": "python",
   "name": "python3"
  },
  "language_info": {
   "codemirror_mode": {
    "name": "ipython",
    "version": 3
   },
   "file_extension": ".py",
   "mimetype": "text/x-python",
   "name": "python",
   "nbconvert_exporter": "python",
   "pygments_lexer": "ipython3",
   "version": "3.9.7"
  },
  "orig_nbformat": 4,
  "vscode": {
   "interpreter": {
    "hash": "ee81a38bb74a1efefdfab7d1ceba425044f93c5a441879ee6ae433bd65c99f7f"
   }
  }
 },
 "nbformat": 4,
 "nbformat_minor": 2
}
