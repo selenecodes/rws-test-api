{
 "cells": [
  {
   "cell_type": "markdown",
   "metadata": {},
   "source": [
    "# Example usage of GraphQL API in python.\n",
    "This notebook demonstrates the usage of the `createMany` endpoint and is used to import the `4pp.csv` dataset into the database.<br/>\n",
    "If you'd like to explore the GraphQL API and it's schema in detail go to the [GraphQL Explorer](http://localhost:4000), the `example.ipynb` notebook shows how to query data from the API."
   ]
  },
  {
   "cell_type": "code",
   "execution_count": null,
   "metadata": {},
   "outputs": [],
   "source": [
    "!pip install gql[all]"
   ]
  },
  {
   "cell_type": "code",
   "execution_count": null,
   "metadata": {},
   "outputs": [],
   "source": [
    "from gql import gql, Client\n",
    "from gql.dsl import dsl_gql, DSLSchema, DSLQuery\n",
    "from gql.transport.requests import RequestsHTTPTransport\n",
    "\n",
    "import csv"
   ]
  },
  {
   "cell_type": "code",
   "execution_count": null,
   "metadata": {},
   "outputs": [],
   "source": [
    "# Select your transport with a defined url endpoint\n",
    "transport = RequestsHTTPTransport(url=\"http://localhost:4000/\")\n",
    "\n",
    "# Create a GraphQL client using the defined transport\n",
    "client = Client(transport=transport, fetch_schema_from_transport=True)"
   ]
  },
  {
   "cell_type": "markdown",
   "metadata": {},
   "source": [
    "### Batch ingesting data\n"
   ]
  },
  {
   "cell_type": "code",
   "execution_count": null,
   "metadata": {},
   "outputs": [],
   "source": [
    "data_path = \"./data/4pp.csv\""
   ]
  },
  {
   "cell_type": "code",
   "execution_count": null,
   "metadata": {},
   "outputs": [],
   "source": [
    "data = []\n",
    "with open(data_path) as csvfile:\n",
    "    reader = csv.DictReader(csvfile)\n",
    "    for row in reader:\n",
    "        data.append({\n",
    "            \"woonplaats\": str(row[\"woonplaats\"]),\n",
    "            \"soort\": str(row[\"soort\"]),\n",
    "            \"provincie\": str(row[\"provincie\"]),\n",
    "            \"postcode\": int(row[\"postcode\"]),\n",
    "            \"netnummer\": str(row[\"netnummer\"]),\n",
    "            \"longitude\": float(row[\"longitude\"]),\n",
    "            \"latitude\": float(row[\"latitude\"]),\n",
    "            \"gemeente\": str(row[\"gemeente\"]),\n",
    "            \"alternatieve_schrijfwijzen\": str(row[\"alternatieve_schrijfwijzen\"]),\n",
    "        })"
   ]
  },
  {
   "cell_type": "code",
   "execution_count": null,
   "metadata": {},
   "outputs": [],
   "source": [
    "# Provide the createMany graphql query.\n",
    "# Queries can be found using the GraphQL explorer at http://localhost:4000/\n",
    "query = gql(\"\"\"\n",
    "  mutation Mutation($data: [ZipcodeCreateInput!]) {\n",
    "    createManyZipcode(data: $data) {\n",
    "      count\n",
    "    }\n",
    "  }\n",
    "\"\"\")\n",
    "\n",
    "# Execute the query using the graphql client.\n",
    "# The $data variable in the gql query gets populated with the data from the `variable_values` parameter below.\n",
    "result = client.execute(query, variable_values={\n",
    "  \"data\": data\n",
    "})\n",
    "\n",
    "count = result['createManyZipcode']['count']"
   ]
  },
  {
   "cell_type": "code",
   "execution_count": null,
   "metadata": {},
   "outputs": [],
   "source": [
    "print(f\"\"\"\n",
    "Rows in CSV file: {len(data)}\n",
    "Rows added to database: {count}\n",
    "\"\"\")"
   ]
  }
 ],
 "metadata": {
  "kernelspec": {
   "display_name": "Python 3.9.7 ('base')",
   "language": "python",
   "name": "python3"
  },
  "language_info": {
   "codemirror_mode": {
    "name": "ipython",
    "version": 3
   },
   "file_extension": ".py",
   "mimetype": "text/x-python",
   "name": "python",
   "nbconvert_exporter": "python",
   "pygments_lexer": "ipython3",
   "version": "3.9.7"
  },
  "orig_nbformat": 4,
  "vscode": {
   "interpreter": {
    "hash": "ee81a38bb74a1efefdfab7d1ceba425044f93c5a441879ee6ae433bd65c99f7f"
   }
  }
 },
 "nbformat": 4,
 "nbformat_minor": 2
}
